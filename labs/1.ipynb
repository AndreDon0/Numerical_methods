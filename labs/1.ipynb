{
 "cells": [
  {
   "cell_type": "markdown",
   "id": "bf83a7a3",
   "metadata": {},
   "source": [
    "# 1. Численная интерполяция"
   ]
  },
  {
   "cell_type": "code",
   "execution_count": null,
   "id": "b6313033",
   "metadata": {},
   "outputs": [
    {
     "name": "stdout",
     "output_type": "stream",
     "text": [
      "Requirement already satisfied: numpy in /home/andredon/projects/University/Numerical_methods/.venv/lib/python3.12/site-packages (2.3.2)\n",
      "Requirement already satisfied: matplotlib in /home/andredon/projects/University/Numerical_methods/.venv/lib/python3.12/site-packages (3.10.6)\n",
      "Requirement already satisfied: sympy in /home/andredon/projects/University/Numerical_methods/.venv/lib/python3.12/site-packages (1.14.0)\n",
      "Requirement already satisfied: contourpy>=1.0.1 in /home/andredon/projects/University/Numerical_methods/.venv/lib/python3.12/site-packages (from matplotlib) (1.3.3)\n",
      "Requirement already satisfied: cycler>=0.10 in /home/andredon/projects/University/Numerical_methods/.venv/lib/python3.12/site-packages (from matplotlib) (0.12.1)\n",
      "Requirement already satisfied: fonttools>=4.22.0 in /home/andredon/projects/University/Numerical_methods/.venv/lib/python3.12/site-packages (from matplotlib) (4.59.2)\n",
      "Requirement already satisfied: kiwisolver>=1.3.1 in /home/andredon/projects/University/Numerical_methods/.venv/lib/python3.12/site-packages (from matplotlib) (1.4.9)\n",
      "Requirement already satisfied: packaging>=20.0 in /home/andredon/projects/University/Numerical_methods/.venv/lib/python3.12/site-packages (from matplotlib) (25.0)\n",
      "Requirement already satisfied: pillow>=8 in /home/andredon/projects/University/Numerical_methods/.venv/lib/python3.12/site-packages (from matplotlib) (11.3.0)\n",
      "Requirement already satisfied: pyparsing>=2.3.1 in /home/andredon/projects/University/Numerical_methods/.venv/lib/python3.12/site-packages (from matplotlib) (3.2.3)\n",
      "Requirement already satisfied: python-dateutil>=2.7 in /home/andredon/projects/University/Numerical_methods/.venv/lib/python3.12/site-packages (from matplotlib) (2.9.0.post0)\n",
      "Requirement already satisfied: mpmath<1.4,>=1.1.0 in /home/andredon/projects/University/Numerical_methods/.venv/lib/python3.12/site-packages (from sympy) (1.3.0)\n",
      "Requirement already satisfied: six>=1.5 in /home/andredon/projects/University/Numerical_methods/.venv/lib/python3.12/site-packages (from python-dateutil>=2.7->matplotlib) (1.17.0)\n"
     ]
    }
   ],
   "source": [
    "!pip install numpy matplotlib sympy\n",
    "\n",
    "import numpy as np\n",
    "import matplotlib.pyplot as plt"
   ]
  },
  {
   "cell_type": "code",
   "execution_count": 96,
   "id": "1201e92d",
   "metadata": {},
   "outputs": [],
   "source": [
    "h = 1 # интерполяционный шаг\n",
    "a = 0 \n",
    "b = 10\n",
    "\n",
    "def f(x: np.ndarray) -> np.ndarray:\n",
    "    return np.sin(np.exp(x / 3) / 10)"
   ]
  },
  {
   "cell_type": "code",
   "execution_count": 97,
   "id": "e750b192",
   "metadata": {},
   "outputs": [],
   "source": [
    "def new_mid_arr(array: np.ndarray) -> np.ndarray:\n",
    "    return (array[:-1] + array[1:]) / 2\n",
    "\n",
    "def chebyshev_series(a: int | float, b: int | float, num_terms: int) -> np.ndarray:\n",
    "    nodes = -np.cos((2 * np.arange(num_terms, dtype=np.float128) + 1) / (2 * num_terms) * np.pi)\n",
    "    return (b - a) / 2 * nodes + (a + b) / 2\n",
    "\n",
    "def equal_series(a: int | float, b: int | float, h: int | float) -> np.ndarray:\n",
    "    return np.arange(a, b + h, h, dtype=np.float128)"
   ]
  },
  {
   "cell_type": "code",
   "execution_count": 98,
   "id": "f1b1d581",
   "metadata": {},
   "outputs": [],
   "source": [
    "class Lagrange_polynomial():\n",
    "    def __init__(self, x: np.ndarray, y: np.ndarray):\n",
    "        if len(x) != len(y):\n",
    "            raise Exception\n",
    "\n",
    "        self.x = x\n",
    "        self.y = y\n",
    "        self.n = len(x)\n",
    "    \n",
    "    def solve_element(self, z: int | float) -> float:\n",
    "        l_z = np.zeros(self.n, dtype=np.float128)\n",
    "        for j in range(0, self.n):\n",
    "            l_z[j] = (np.prod((z - np.delete(self.x, j)) / (self.x[j] - np.delete(self.x, j))))\n",
    "\n",
    "        return sum(self.y * l_z)\n",
    "    \n",
    "    def solve_interpolation(self, array: np.ndarray) -> np.ndarray:\n",
    "        res = np.zeros(len(array), dtype=np.float128)\n",
    "        for i in range(0, len(array)):\n",
    "            res[i] = self.solve_element(array[i])\n",
    "        \n",
    "        return  res"
   ]
  },
  {
   "cell_type": "markdown",
   "id": "5e0c2236",
   "metadata": {},
   "source": [
    "## Часть А"
   ]
  },
  {
   "cell_type": "code",
   "execution_count": 99,
   "id": "97037c1a",
   "metadata": {},
   "outputs": [
    {
     "data": {
      "text/plain": [
       "<matplotlib.collections.PathCollection at 0x79930cb55190>"
      ]
     },
     "execution_count": 99,
     "metadata": {},
     "output_type": "execute_result"
    },
    {
     "data": {
      "image/png": "[encoded data removed]",
      "text/plain": [
       "<Figure size 640x480 with 1 Axes>"
      ]
     },
     "metadata": {},
     "output_type": "display_data"
    }
   ],
   "source": [
    "interval = equal_series(a, b, h)\n",
    "interval0 = new_mid_arr(interval)\n",
    "\n",
    "poly = Lagrange_polynomial(interval, f(interval))\n",
    "\n",
    "solution = poly.solve_interpolation(interval0)\n",
    "\n",
    "plt.scatter(interval0, solution, c=\"blue\")\n",
    "plt.scatter(interval, f(interval), c=\"green\")"
   ]
  },
  {
   "cell_type": "markdown",
   "id": "3eb54550",
   "metadata": {},
   "source": [
    "## Часть Б"
   ]
  },
  {
   "cell_type": "code",
   "execution_count": 100,
   "id": "30e47afa",
   "metadata": {},
   "outputs": [
    {
     "data": {
      "text/plain": [
       "<matplotlib.collections.PathCollection at 0x79930c98f8c0>"
      ]
     },
     "execution_count": 100,
     "metadata": {},
     "output_type": "execute_result"
    },
    {
     "data": {
      "image/png": "[encoded data removed]",
      "text/plain": [
       "<Figure size 640x480 with 1 Axes>"
      ]
     },
     "metadata": {},
     "output_type": "display_data"
    }
   ],
   "source": [
    "interval = chebyshev_series(a, b, int((b - a) / h) + 1)\n",
    "interval0 = new_mid_arr(interval)\n",
    "\n",
    "poly = Lagrange_polynomial(interval, f(interval))\n",
    "\n",
    "solution = poly.solve_interpolation(interval0)\n",
    "\n",
    "plt.scatter(interval0, solution, c=\"blue\")\n",
    "plt.scatter(interval, f(interval), c=\"green\")"
   ]
  }
 ],
 "metadata": {
  "kernelspec": {
   "display_name": ".venv",
   "language": "python",
   "name": "python3"
  },
  "language_info": {
   "codemirror_mode": {
    "name": "ipython",
    "version": 3
   },
   "file_extension": ".py",
   "mimetype": "text/x-python",
   "name": "python",
   "nbconvert_exporter": "python",
   "pygments_lexer": "ipython3",
   "version": "3.12.3"
  }
 },
 "nbformat": 4,
 "nbformat_minor": 5
}
